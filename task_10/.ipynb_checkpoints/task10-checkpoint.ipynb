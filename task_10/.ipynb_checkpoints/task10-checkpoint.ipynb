{
 "cells": [
  {
   "cell_type": "markdown",
   "id": "4747f453",
   "metadata": {},
   "source": [
    "f(x) = -12x^4*sin(cos(x)) - 18x^3+5x^2 + 10x - 30\n",
    "\n",
    "1. Определить корни\n",
    "\n",
    "2. Найти интервалы, на которых функция возрастает\n",
    "\n",
    "3. Найти интервалы, на которых функция убывает\n",
    "\n",
    "4. Построить график\n",
    "\n",
    "5. Вычислить вершину\n",
    "\n",
    "6. Определить промежутки, на котором f > 0\n",
    "\n",
    "7. Определить промежутки, на котором f < 0"
   ]
  },
  {
   "cell_type": "markdown",
   "id": "648c6e8c",
   "metadata": {},
   "source": []
  },
  {
   "cell_type": "code",
   "execution_count": null,
   "id": "71c80406",
   "metadata": {},
   "outputs": [],
   "source": [
    "import sympy"
   ]
  },
  {
   "cell_type": "code",
   "execution_count": null,
   "id": "13694f27",
   "metadata": {},
   "outputs": [],
   "source": [
    "x = sympy.Symbol('x')"
   ]
  },
  {
   "cell_type": "code",
   "execution_count": null,
   "id": "2b3f7eed",
   "metadata": {},
   "outputs": [],
   "source": [
    "f =  -12*x**4*sympy.sin(sympy.cos(x)) - 18 * x**3 + 5 * x**2 + 10 * x - 30"
   ]
  },
  {
   "cell_type": "code",
   "execution_count": null,
   "id": "b57795a0",
   "metadata": {},
   "outputs": [],
   "source": [
    "print(f)"
   ]
  },
  {
   "cell_type": "code",
   "execution_count": null,
   "id": "75e2a72e",
   "metadata": {},
   "outputs": [],
   "source": [
    "plot(f)"
   ]
  },
  {
   "cell_type": "code",
   "execution_count": null,
   "id": "714252ea",
   "metadata": {},
   "outputs": [],
   "source": [
    "pos_x = -10\n",
    "result = []\n",
    "\n",
    "while(pos_x <= 10):\n",
    "    if (f.subs(x,pos_x)== 0):\n",
    "        result.append(pos_x)\n",
    "        print(result)\n",
    "        pos_x += 0.01"
   ]
  },
  {
   "cell_type": "code",
   "execution_count": null,
   "id": "5c47f2ff",
   "metadata": {},
   "outputs": [],
   "source": [
    "print(result)"
   ]
  },
  {
   "cell_type": "code",
   "execution_count": null,
   "id": "11a48d96",
   "metadata": {},
   "outputs": [],
   "source": [
    "plot(f.diff(x))"
   ]
  },
  {
   "cell_type": "code",
   "execution_count": null,
   "id": "d4628adc",
   "metadata": {},
   "outputs": [],
   "source": [
    "print(sympy.solve(f, x))"
   ]
  },
  {
   "cell_type": "code",
   "execution_count": null,
   "id": "6db4514e",
   "metadata": {},
   "outputs": [],
   "source": [
    "print([root.evalf() for root in sympy.solve(f, x)])"
   ]
  },
  {
   "cell_type": "code",
   "execution_count": null,
   "id": "ef53f630",
   "metadata": {},
   "outputs": [],
   "source": [
    "f1 = 2*x**2 + 5*x +2"
   ]
  },
  {
   "cell_type": "code",
   "execution_count": null,
   "id": "1c86b081",
   "metadata": {},
   "outputs": [],
   "source": [
    "f1"
   ]
  },
  {
   "cell_type": "code",
   "execution_count": null,
   "id": "4aafb33b",
   "metadata": {},
   "outputs": [],
   "source": [
    "f1.subs(x,5)"
   ]
  },
  {
   "cell_type": "markdown",
   "id": "04b95617",
   "metadata": {},
   "source": [
    "производная"
   ]
  },
  {
   "cell_type": "code",
   "execution_count": null,
   "id": "4166859d",
   "metadata": {},
   "outputs": [],
   "source": [
    "f1.diff(x)"
   ]
  },
  {
   "cell_type": "code",
   "execution_count": null,
   "id": "65b15df2",
   "metadata": {},
   "outputs": [],
   "source": [
    "from sympy.plotting import plot"
   ]
  },
  {
   "cell_type": "code",
   "execution_count": null,
   "id": "74501813",
   "metadata": {},
   "outputs": [],
   "source": [
    "plot(f1)"
   ]
  },
  {
   "cell_type": "code",
   "execution_count": null,
   "id": "5dac0072",
   "metadata": {},
   "outputs": [],
   "source": [
    "plot(f1.diff(x))"
   ]
  },
  {
   "cell_type": "code",
   "execution_count": null,
   "id": "3dd9debe",
   "metadata": {},
   "outputs": [],
   "source": [
    "sympy.solve(f1.diff(x))"
   ]
  },
  {
   "cell_type": "code",
   "execution_count": null,
   "id": "6e020eb5",
   "metadata": {},
   "outputs": [],
   "source": [
    "f1.diff(x).subs(x, -5/4)"
   ]
  },
  {
   "cell_type": "code",
   "execution_count": null,
   "id": "e4d9651e",
   "metadata": {},
   "outputs": [],
   "source": [
    "f3 = 5*x**2 + 10*x - 30"
   ]
  },
  {
   "cell_type": "code",
   "execution_count": null,
   "id": "247f5ce5",
   "metadata": {},
   "outputs": [],
   "source": [
    "print(sympy.solve(f3, x))"
   ]
  },
  {
   "cell_type": "code",
   "execution_count": null,
   "id": "e3cbc6d4",
   "metadata": {},
   "outputs": [],
   "source": [
    "plot(f3)"
   ]
  },
  {
   "cell_type": "code",
   "execution_count": null,
   "id": "90867e90",
   "metadata": {},
   "outputs": [],
   "source": [
    "plot(f3.diff(x))"
   ]
  },
  {
   "cell_type": "code",
   "execution_count": null,
   "id": "9ea84c91",
   "metadata": {},
   "outputs": [],
   "source": [
    "sympy.solve(f3.diff(x))"
   ]
  },
  {
   "cell_type": "markdown",
   "id": "bd2d6133",
   "metadata": {},
   "source": [
    "выше - вершина x"
   ]
  },
  {
   "cell_type": "markdown",
   "id": "3e31c138",
   "metadata": {},
   "source": [
    "вершина по y"
   ]
  },
  {
   "cell_type": "code",
   "execution_count": null,
   "id": "48ecba78",
   "metadata": {},
   "outputs": [],
   "source": [
    "f3.subs(x, -1)"
   ]
  },
  {
   "cell_type": "code",
   "execution_count": null,
   "id": "60bc6924",
   "metadata": {},
   "outputs": [],
   "source": []
  },
  {
   "cell_type": "code",
   "execution_count": null,
   "id": "5b692813",
   "metadata": {},
   "outputs": [],
   "source": []
  }
 ],
 "metadata": {
  "kernelspec": {
   "display_name": "Python 3 (ipykernel)",
   "language": "python",
   "name": "python3"
  },
  "language_info": {
   "codemirror_mode": {
    "name": "ipython",
    "version": 3
   },
   "file_extension": ".py",
   "mimetype": "text/x-python",
   "name": "python",
   "nbconvert_exporter": "python",
   "pygments_lexer": "ipython3",
   "version": "3.10.6"
  }
 },
 "nbformat": 4,
 "nbformat_minor": 5
}
